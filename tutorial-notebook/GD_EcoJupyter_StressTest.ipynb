{
 "cells": [
  {
   "cell_type": "code",
   "execution_count": 1,
   "id": "d8281a46-f0de-4bff-89b2-3c4739ea0697",
   "metadata": {
    "jupyter": {
     "source_hidden": true
    }
   },
   "outputs": [
    {
     "data": {
      "application/vnd.jupyter.widget-view+json": {
       "model_id": "a1f4772ba72a4f1ab8773ee666ad54b7",
       "version_major": 2,
       "version_minor": 0
      },
      "text/plain": [
       "HTML(value=\"<b style='color: darkred;'>Warning:</b> Be mindful about increasing the pre-defined values—setting…"
      ]
     },
     "metadata": {},
     "output_type": "display_data"
    },
    {
     "data": {
      "application/vnd.jupyter.widget-view+json": {
       "model_id": "493b5d91caa7423a881665f99a28d127",
       "version_major": 2,
       "version_minor": 0
      },
      "text/plain": [
       "HBox(children=(BoundedIntText(value=2, description='CPU cores:', max=8, min=1), BoundedIntText(value=500, desc…"
      ]
     },
     "metadata": {},
     "output_type": "display_data"
    },
    {
     "data": {
      "application/vnd.jupyter.widget-view+json": {
       "model_id": "a00b1a01d04947db83145794b58491d8",
       "version_major": 2,
       "version_minor": 0
      },
      "text/plain": [
       "HBox(children=(Button(button_style='warning', description='Run CPU Stress Test', style=ButtonStyle()), Button(…"
      ]
     },
     "metadata": {},
     "output_type": "display_data"
    },
    {
     "data": {
      "application/vnd.jupyter.widget-view+json": {
       "model_id": "9d4e3f75388342e98a114877e32cc3b4",
       "version_major": 2,
       "version_minor": 0
      },
      "text/plain": [
       "Output()"
      ]
     },
     "metadata": {},
     "output_type": "display_data"
    }
   ],
   "source": [
    "import multiprocessing\n",
    "import threading\n",
    "import time\n",
    "import ipywidgets as widgets\n",
    "from IPython.display import display, clear_output\n",
    "\n",
    "# ----------- Definitions --------------\n",
    "\n",
    "def cpu_stress(cores, duration, output_box):\n",
    "    def cpu_load():\n",
    "        while not stop_event.is_set():\n",
    "            pass  # Busy wait\n",
    "    stop_event = threading.Event()\n",
    "    processes = []\n",
    "    try:\n",
    "        output_box.append_stdout(f\"Starting {cores} CPU stress processes...\\n\")\n",
    "        for _ in range(cores):\n",
    "            p = multiprocessing.Process(target=cpu_load)\n",
    "            p.start()\n",
    "            processes.append(p)\n",
    "        output_box.append_stdout(f\"Stressing CPU for {duration} seconds...\\n\")\n",
    "        time.sleep(duration)\n",
    "    finally:\n",
    "        stop_event.set()\n",
    "        for p in processes:\n",
    "            p.terminate()\n",
    "        output_box.append_stdout(\"Stopped CPU stress test.\\n\\n\")\n",
    "\n",
    "def ram_stress(mb, duration, output_box):\n",
    "    big_data = []\n",
    "    try:\n",
    "        output_box.append_stdout(f\"Allocating ~{mb} MB RAM...\\n\")\n",
    "        for _ in range(mb):\n",
    "            big_data.append(bytearray(1024 * 1024))  # Allocate 1MB\n",
    "        output_box.append_stdout(f\"RAM allocation done. Holding for {duration} seconds...\\n\")\n",
    "        time.sleep(duration)\n",
    "    except MemoryError:\n",
    "        output_box.append_stdout(\"MemoryError: Could not allocate requested memory.\\n\")\n",
    "    finally:\n",
    "        del big_data\n",
    "        output_box.append_stdout(\"Released memory.\\n\\n\")\n",
    "\n",
    "def combined_stress(cores, mb, duration, output_box):\n",
    "    # Start both CPU and RAM stress in threads so both run concurrently\n",
    "    cpu_thread = threading.Thread(target=cpu_stress, args=(cores, duration, output_box))\n",
    "    ram_thread = threading.Thread(target=ram_stress, args=(mb, duration, output_box))\n",
    "    output_box.append_stdout(\"Running combined CPU and RAM stress...\\n\")\n",
    "    cpu_thread.start()\n",
    "    ram_thread.start()\n",
    "    cpu_thread.join()\n",
    "    ram_thread.join()\n",
    "    output_box.append_stdout(\"Combined stress test complete.\\n\\n\")\n",
    "\n",
    "# ----------- Widgets & UI -------------\n",
    "\n",
    "warning = widgets.HTML(\"<b style='color: darkred;'>Warning:</b> Be mindful about increasing the pre-defined values—\"\n",
    "                      \"setting too high may crash your environment or cause instability.\")\n",
    "\n",
    "cpu_count = multiprocessing.cpu_count()\n",
    "cpu_input = widgets.BoundedIntText(value=min(2, cpu_count), min=1, max=cpu_count,\n",
    "                                   description=\"CPU cores:\")\n",
    "ram_input = widgets.BoundedIntText(value=500, min=10, max=20000, step=10,\n",
    "                                   description=\"RAM (MB):\")\n",
    "dur_input = widgets.BoundedIntText(value=30, min=5, max=600, step=5,\n",
    "                                   description=\"Duration (s):\")\n",
    "\n",
    "cpu_button = widgets.Button(description=\"Run CPU Stress Test\", button_style=\"warning\")\n",
    "ram_button = widgets.Button(description=\"Run RAM Stress Test\", button_style=\"warning\")\n",
    "both_button = widgets.Button(description=\"Run BOTH\", button_style=\"danger\")\n",
    "\n",
    "output_box = widgets.Output()\n",
    "\n",
    "def on_cpu_clicked(b):\n",
    "    with output_box:\n",
    "        clear_output()\n",
    "        cpu_stress(cpu_input.value, dur_input.value, output_box)\n",
    "\n",
    "def on_ram_clicked(b):\n",
    "    with output_box:\n",
    "        clear_output()\n",
    "        ram_stress(ram_input.value, dur_input.value, output_box)\n",
    "\n",
    "def on_both_clicked(b):\n",
    "    with output_box:\n",
    "        clear_output()\n",
    "        combined_stress(cpu_input.value, ram_input.value, dur_input.value, output_box)\n",
    "\n",
    "cpu_button.on_click(on_cpu_clicked)\n",
    "ram_button.on_click(on_ram_clicked)\n",
    "both_button.on_click(on_both_clicked)\n",
    "\n",
    "controls = widgets.HBox([cpu_input, ram_input, dur_input])\n",
    "buttons = widgets.HBox([cpu_button, ram_button, both_button])\n",
    "\n",
    "display(warning, controls, buttons, output_box)"
   ]
  }
 ],
 "metadata": {
  "kernelspec": {
   "display_name": "Python 3 (ipykernel)",
   "language": "python",
   "name": "python3"
  },
  "language_info": {
   "codemirror_mode": {
    "name": "ipython",
    "version": 3
   },
   "file_extension": ".py",
   "mimetype": "text/x-python",
   "name": "python",
   "nbconvert_exporter": "python",
   "pygments_lexer": "ipython3",
   "version": "3.11.6"
  }
 },
 "nbformat": 4,
 "nbformat_minor": 5
}
