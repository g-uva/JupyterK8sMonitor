{
 "cells": [
  {
   "cell_type": "code",
   "execution_count": null,
   "id": "d8281a46-f0de-4bff-89b2-3c4739ea0697",
   "metadata": {
    "jupyter": {
     "source_hidden": true
    }
   },
   "outputs": [
    {
     "data": {
      "application/vnd.jupyter.widget-view+json": {
       "model_id": "a1f4772ba72a4f1ab8773ee666ad54b7",
       "version_major": 2,
       "version_minor": 0
      },
      "text/plain": [
       "HTML(value=\"<b style='color: darkred;'>Warning:</b> Be mindful about increasing the pre-defined values—setting…"
      ]
     },
     "metadata": {},
     "output_type": "display_data"
    },
    {
     "data": {
      "application/vnd.jupyter.widget-view+json": {
       "model_id": "493b5d91caa7423a881665f99a28d127",
       "version_major": 2,
       "version_minor": 0
      },
      "text/plain": [
       "HBox(children=(BoundedIntText(value=2, description='CPU cores:', max=8, min=1), BoundedIntText(value=500, desc…"
      ]
     },
     "metadata": {},
     "output_type": "display_data"
    },
    {
     "data": {
      "application/vnd.jupyter.widget-view+json": {
       "model_id": "a00b1a01d04947db83145794b58491d8",
       "version_major": 2,
       "version_minor": 0
      },
      "text/plain": [
       "HBox(children=(Button(button_style='warning', description='Run CPU Stress Test', style=ButtonStyle()), Button(…"
      ]
     },
     "metadata": {},
     "output_type": "display_data"
    },
    {
     "data": {
      "application/vnd.jupyter.widget-view+json": {
       "model_id": "9d4e3f75388342e98a114877e32cc3b4",
       "version_major": 2,
       "version_minor": 0
      },
      "text/plain": [
       "Output()"
      ]
     },
     "metadata": {},
     "output_type": "display_data"
    }
   ],
   "source": [
    "import multiprocessing\n",
    "import threading\n",
    "import time\n",
    "import ipywidgets as widgets\n",
    "from IPython.display import display, clear_output\n",
    "\n",
    "cancel_event = threading.Event()\n",
    "stress_running = threading.Event()\n",
    "\n",
    "def cpu_stress(cores, duration, output_box, progress_cpu):\n",
    "    def cpu_load():\n",
    "        while not stop_event.is_set() and not cancel_event.is_set():\n",
    "            pass\n",
    "    stop_event = threading.Event()\n",
    "    processes = []\n",
    "    try:\n",
    "        output_box.append_stdout(f\"Starting {cores} CPU stress processes...\\n\")\n",
    "        for _ in range(cores):\n",
    "            p = multiprocessing.Process(target=cpu_load)\n",
    "            p.start()\n",
    "            processes.append(p)\n",
    "        for i in range(duration):\n",
    "            if cancel_event.is_set():\n",
    "                output_box.append_stdout(\"CPU stress canceled.\\n\")\n",
    "                break\n",
    "            time.sleep(1)\n",
    "            progress_cpu.value = int((i + 1) / duration * 100)\n",
    "    finally:\n",
    "        stop_event.set()\n",
    "        for p in processes:\n",
    "            p.terminate()\n",
    "        progress_cpu.value = 100\n",
    "        output_box.append_stdout(\"CPU stress test ended.\\n\\n\")\n",
    "\n",
    "def ram_stress(mb, duration, output_box, progress_ram):\n",
    "    big_data = []\n",
    "    try:\n",
    "        output_box.append_stdout(f\"Allocating ~{mb} MB RAM...\\n\")\n",
    "        for _ in range(mb):\n",
    "            if cancel_event.is_set():\n",
    "                output_box.append_stdout(\"RAM allocation canceled during allocation.\\n\")\n",
    "                return\n",
    "            big_data.append(bytearray(1024 * 1024))\n",
    "        for i in range(duration):\n",
    "            if cancel_event.is_set():\n",
    "                output_box.append_stdout(\"RAM stress canceled.\\n\")\n",
    "                break\n",
    "            time.sleep(1)\n",
    "            progress_ram.value = int((i + 1) / duration * 100)\n",
    "    except MemoryError:\n",
    "        output_box.append_stdout(\"MemoryError: Could not allocate requested memory.\\n\")\n",
    "    finally:\n",
    "        del big_data\n",
    "        progress_ram.value = 100\n",
    "        output_box.append_stdout(\"RAM stress test ended.\\n\\n\")\n",
    "\n",
    "def combined_stress(cores, mb, duration, output_box, progress_cpu, progress_ram):\n",
    "    output_box.append_stdout(\"Running combined CPU and RAM stress...\\n\")\n",
    "    cpu_thread = threading.Thread(target=cpu_stress, args=(cores, duration, output_box, progress_cpu))\n",
    "    ram_thread = threading.Thread(target=ram_stress, args=(mb, duration, output_box, progress_ram))\n",
    "    cpu_thread.start()\n",
    "    ram_thread.start()\n",
    "    cpu_thread.join()\n",
    "    ram_thread.join()\n",
    "    output_box.append_stdout(\"Combined stress test complete.\\n\\n\")\n",
    "\n",
    "# Widgets\n",
    "warning = widgets.HTML(\"<b style='color: darkred;'>Warning:</b> Be mindful about increasing the pre-defined values—\"\n",
    "                      \"setting too high may crash your environment or cause instability.\")\n",
    "\n",
    "cpu_count = multiprocessing.cpu_count()\n",
    "cpu_input = widgets.BoundedIntText(value=min(2, cpu_count), min=1, max=cpu_count, layout=widgets.Layout(width='100px'))\n",
    "ram_input = widgets.BoundedIntText(value=500, min=10, max=20000, step=10, layout=widgets.Layout(width='100px'))\n",
    "dur_input = widgets.BoundedIntText(value=30, min=5, max=600, step=5, description=\"Duration (s):\", layout=widgets.Layout(width='150px'))\n",
    "\n",
    "cpu_button = widgets.Button(description=\"Run CPU Stress Test\", button_style=\"warning\", layout=widgets.Layout(width='150px'))\n",
    "ram_button = widgets.Button(description=\"Run RAM Stress Test\", button_style=\"warning\", layout=widgets.Layout(width='150px'))\n",
    "both_button = widgets.Button(description=\"Run BOTH\", button_style=\"danger\", layout=widgets.Layout(width='100%'))\n",
    "cancel_button = widgets.Button(description=\"Cancel\", button_style=\"info\", layout=widgets.Layout(width='100%'))\n",
    "\n",
    "output_box = widgets.Output()\n",
    "progress_cpu = widgets.IntProgress(min=0, max=100, value=0, description='CPU Progress', bar_style='info', layout=widgets.Layout(width='100%'))\n",
    "progress_ram = widgets.IntProgress(min=0, max=100, value=0, description='RAM Progress', bar_style='info', layout=widgets.Layout(width='100%'))\n",
    "\n",
    "def set_buttons_state(running):\n",
    "    cpu_button.disabled = running\n",
    "    ram_button.disabled = running\n",
    "    both_button.disabled = running\n",
    "    cancel_button.disabled = not running\n",
    "\n",
    "def run_in_thread(target):\n",
    "    thread = threading.Thread(target=target)\n",
    "    thread.start()\n",
    "\n",
    "def run_cpu():\n",
    "    cancel_event.clear()\n",
    "    stress_running.set()\n",
    "    set_buttons_state(True)\n",
    "    with output_box:\n",
    "        clear_output()\n",
    "        progress_cpu.value = 0\n",
    "        progress_ram.value = 0\n",
    "    cpu_stress(cpu_input.value, dur_input.value, output_box, progress_cpu)\n",
    "    stress_running.clear()\n",
    "    set_buttons_state(False)\n",
    "\n",
    "def run_ram():\n",
    "    cancel_event.clear()\n",
    "    stress_running.set()\n",
    "    set_buttons_state(True)\n",
    "    with output_box:\n",
    "        clear_output()\n",
    "        progress_cpu.value = 0\n",
    "        progress_ram.value = 0\n",
    "    ram_stress(ram_input.value, dur_input.value, output_box, progress_ram)\n",
    "    stress_running.clear()\n",
    "    set_buttons_state(False)\n",
    "\n",
    "def run_both():\n",
    "    cancel_event.clear()\n",
    "    stress_running.set()\n",
    "    set_buttons_state(True)\n",
    "    with output_box:\n",
    "        clear_output()\n",
    "        progress_cpu.value = 0\n",
    "        progress_ram.value = 0\n",
    "    combined_stress(cpu_input.value, ram_input.value, dur_input.value, output_box, progress_cpu, progress_ram)\n",
    "    stress_running.clear()\n",
    "    set_buttons_state(False)\n",
    "\n",
    "def on_cancel_clicked(b):\n",
    "    cancel_event.set()\n",
    "    with output_box:\n",
    "        output_box.append_stdout(\"Cancellation requested.\\n\")\n",
    "\n",
    "cpu_button.on_click(lambda b: run_in_thread(run_cpu))\n",
    "ram_button.on_click(lambda b: run_in_thread(run_ram))\n",
    "both_button.on_click(lambda b: run_in_thread(run_both))\n",
    "cancel_button.on_click(on_cancel_clicked)\n",
    "\n",
    "cpu_row = widgets.HBox([widgets.Label(\"CPU cores:\", layout=widgets.Layout(width='80px')), cpu_input, cpu_button], layout=widgets.Layout(gap='10px'))\n",
    "ram_row = widgets.HBox([widgets.Label(\"RAM (MB):\", layout=widgets.Layout(width='80px')), ram_input, ram_button], layout=widgets.Layout(gap='10px'))\n",
    "\n",
    "display(warning, dur_input, cpu_row, ram_row, both_button, cancel_button, progress_cpu, progress_ram, output_box)\n"
   ]
  }
 ],
 "metadata": {
  "kernelspec": {
   "display_name": "Python 3 (ipykernel)",
   "language": "python",
   "name": "python3"
  },
  "language_info": {
   "codemirror_mode": {
    "name": "ipython",
    "version": 3
   },
   "file_extension": ".py",
   "mimetype": "text/x-python",
   "name": "python",
   "nbconvert_exporter": "python",
   "pygments_lexer": "ipython3",
   "version": "3.11.6"
  }
 },
 "nbformat": 4,
 "nbformat_minor": 5
}
